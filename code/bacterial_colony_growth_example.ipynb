{
 "cells": [
  {
   "cell_type": "markdown",
   "metadata": {},
   "source": [
    "## Bacterial Colony Growth\n",
    "[Biomechanical ordering of dense cell populations](https://www.pnas.org/doi/abs/10.1073/pnas.0706805105)"
   ]
  },
  {
   "cell_type": "markdown",
   "metadata": {},
   "source": [
    "### Imports"
   ]
  },
  {
   "cell_type": "code",
   "execution_count": 1,
   "metadata": {},
   "outputs": [
    {
     "name": "stderr",
     "output_type": "stream",
     "text": [
      "\u001b[32m\u001b[1m   Resolving\u001b[22m\u001b[39m package versions...\n",
      "\u001b[32m\u001b[1m  No Changes\u001b[22m\u001b[39m to `C:\\Users\\Marko\\.julia\\environments\\v1.9\\Project.toml`\n",
      "\u001b[32m\u001b[1m  No Changes\u001b[22m\u001b[39m to `C:\\Users\\Marko\\.julia\\environments\\v1.9\\Manifest.toml`\n",
      "\u001b[32m\u001b[1m   Resolving\u001b[22m\u001b[39m package versions...\n",
      "\u001b[32m\u001b[1m  No Changes\u001b[22m\u001b[39m to `C:\\Users\\Marko\\.julia\\environments\\v1.9\\Project.toml`\n",
      "\u001b[32m\u001b[1m  No Changes\u001b[22m\u001b[39m to `C:\\Users\\Marko\\.julia\\environments\\v1.9\\Manifest.toml`\n",
      "\u001b[32m\u001b[1m   Resolving\u001b[22m\u001b[39m package versions...\n",
      "\u001b[32m\u001b[1m  No Changes\u001b[22m\u001b[39m to `C:\\Users\\Marko\\.julia\\environments\\v1.9\\Project.toml`\n",
      "\u001b[32m\u001b[1m  No Changes\u001b[22m\u001b[39m to `C:\\Users\\Marko\\.julia\\environments\\v1.9\\Manifest.toml`\n",
      "\u001b[32m\u001b[1m   Resolving\u001b[22m\u001b[39m package versions...\n",
      "\u001b[32m\u001b[1m  No Changes\u001b[22m\u001b[39m to `C:\\Users\\Marko\\.julia\\environments\\v1.9\\Project.toml`\n",
      "\u001b[32m\u001b[1m  No Changes\u001b[22m\u001b[39m to `C:\\Users\\Marko\\.julia\\environments\\v1.9\\Manifest.toml`\n",
      "\u001b[32m\u001b[1m   Resolving\u001b[22m\u001b[39m package versions...\n",
      "\u001b[32m\u001b[1m  No Changes\u001b[22m\u001b[39m to `C:\\Users\\Marko\\.julia\\environments\\v1.9\\Project.toml`\n",
      "\u001b[32m\u001b[1m  No Changes\u001b[22m\u001b[39m to `C:\\Users\\Marko\\.julia\\environments\\v1.9\\Manifest.toml`\n"
     ]
    }
   ],
   "source": [
    "# Adding packages\n",
    "using Pkg\n",
    "Pkg.add(\"CellBasedModels\")\n",
    "Pkg.add(\"CUDA\")\n",
    "Pkg.add(\"Distributions\")\n",
    "Pkg.add(\"GLMakie\")\n",
    "Pkg.add(\"GeometryBasics\")\n",
    "\n",
    "# Enabling packages\n",
    "using CellBasedModels\n",
    "using CUDA\n",
    "using Distributions\n",
    "using GLMakie\n",
    "using GeometryBasics\n",
    "Makie.inline!(true);"
   ]
  },
  {
   "cell_type": "markdown",
   "metadata": {},
   "source": [
    "### Code"
   ]
  },
  {
   "cell_type": "markdown",
   "metadata": {},
   "source": [
    "#### Forces Model"
   ]
  },
  {
   "cell_type": "code",
   "execution_count": 2,
   "metadata": {},
   "outputs": [],
   "source": [
    "rod2D = ABM(2,\n",
    "    agent = Dict(\n",
    "            :vx=>Float64,\n",
    "            :vy=>Float64,\n",
    "            :theta=>Float64,\n",
    "            :ω=>Float64,\n",
    "            :d=>Float64,\n",
    "            :l=>Float64,\n",
    "            :m=>Float64,\n",
    "            :fx=>Float64,\n",
    "            :fy=>Float64,\n",
    "            :W=>Float64,\n",
    "            :pressure=>Float64\n",
    "        ),    #Local Interaction Parameters\n",
    "\n",
    "    model = Dict(\n",
    "            :kn=>Float64,\n",
    "            :γn=>Float64,\n",
    "            :γt=>Float64,\n",
    "            :μcc=>Float64,\n",
    "            :μcw=>Float64,\n",
    "            :β=>Float64,\n",
    "            :βω=>Float64\n",
    "        ),        #Global parameters\n",
    "\n",
    "    agentODE = quote\n",
    "\n",
    "        fx = 0\n",
    "        fy = 0\n",
    "        W = 0\n",
    "        pressure = 0\n",
    "        @loopOverNeighbors i2 begin\n",
    "\n",
    "            #Use the model provided in the documentation\n",
    "            Fijx, Fijy, Wij = CBMModels.rodForces(\n",
    "                                    x,y,d,l,theta,vx,vy,m,\n",
    "                                    x[i2],y[i2],d[i2],l[i2],theta[i2],vx[i2],vy[i2],m[i2],\n",
    "                                    kn,γn,γt,μcc,μcw\n",
    "                                )\n",
    "\n",
    "            #Append the interaction forces\n",
    "            fx += Fijx\n",
    "            fy += Fijy\n",
    "            #Append radial forces\n",
    "            W += Wij\n",
    "            #Keep track of preassure in the media\n",
    "            pressure += sqrt(Fijx^2+Fijy^2)\n",
    "            \n",
    "        end\n",
    "\n",
    "        #Equations\n",
    "        dt(x) =  vx \n",
    "        dt(y) =  vy \n",
    "        dt(vx) =  -β*vx+fx/m \n",
    "        dt(vy) =  -β*vy+fy/m \n",
    "        dt(theta) =  ω \n",
    "        dt(ω) =  W/(m*(d+l)^2/12+m*d^2)-βω*ω \n",
    "        \n",
    "    end,\n",
    "\n",
    "    neighborsAlg=CBMNeighbors.CellLinked(cellEdge=4),\n",
    "    platform=GPU(),\n",
    "    agentAlg = CBMIntegrators.Heun()\n",
    ");"
   ]
  },
  {
   "cell_type": "markdown",
   "metadata": {},
   "source": [
    "##### Initialize a community with to bacterias and check forces"
   ]
  },
  {
   "cell_type": "code",
   "execution_count": 9,
   "metadata": {},
   "outputs": [],
   "source": [
    "com = Community(rod2D,\n",
    "            N=2,\n",
    "            dt=0.1,\n",
    "            simBox = [-20 20;-20 20.],\n",
    "            );\n",
    "\n",
    "#Natural units scales\n",
    "m = 1/100\n",
    "g = 1/10000\n",
    "d = 1\n",
    "#Model constants\n",
    "com.kn = 2E6      * (m*g/d)\n",
    "com.γn = 2.2E2    * sqrt(g/d)\n",
    "com.γt = 2.2E2    * sqrt(g/d)\n",
    "com.μcc = 0.1\n",
    "com.μcw = 0.8\n",
    "com.β = .8\n",
    "com.βω = .8\n",
    "#Agent parameters\n",
    "com.m = 1\n",
    "com.d = 1\n",
    "com.l = 3;\n",
    "    # You can play to put different positions and angles here and see the behaviour of the interacting bacteries\n",
    "com.x = [0.,1]\n",
    "com.y = [0.,1]\n",
    "com.theta = [0,π/2];"
   ]
  },
  {
   "cell_type": "code",
   "execution_count": 10,
   "metadata": {},
   "outputs": [
    {
     "ename": "ErrorException",
     "evalue": "Parameter platform not found in the community.",
     "output_type": "error",
     "traceback": [
      "Parameter platform not found in the community.\n",
      "\n",
      "Stacktrace:\n",
      "  [1] error(::String, ::Symbol, ::String)\n",
      "    @ Base .\\error.jl:44\n",
      "  [2] getproperty(com::Community, var::Symbol)\n",
      "    @ CellBasedModels C:\\Users\\Marko\\.julia\\packages\\CellBasedModels\\xcw7h\\src\\CommunityStructure\\communityStructure.jl:385\n",
      "  [3] macro expansion\n",
      "    @ C:\\Users\\Marko\\.julia\\packages\\CUDA\\s5N6v\\src\\utilities.jl:25 [inlined]\n",
      "  [4] neighborsCellLinked2GPU!(community::Community)\n",
      "    @ CellBasedModels.CBMNeighbors C:\\Users\\Marko\\.julia\\packages\\CellBasedModels\\xcw7h\\src\\neighbors.jl:944\n",
      "  [5] computeNeighbors!(neig::CellBasedModels.CBMNeighbors.CellLinked, com::Community)\n",
      "    @ CellBasedModels.CBMNeighbors C:\\Users\\Marko\\.julia\\packages\\CellBasedModels\\xcw7h\\src\\neighbors.jl:622\n",
      "  [6] computeNeighbors!(com::Community)\n",
      "    @ CellBasedModels.CBMNeighbors C:\\Users\\Marko\\.julia\\packages\\CellBasedModels\\xcw7h\\src\\neighbors.jl:18\n",
      "  [7] loadToPlatform!(com::Community; preallocateAgents::Int64)\n",
      "    @ CellBasedModels C:\\Users\\Marko\\.julia\\packages\\CellBasedModels\\xcw7h\\src\\CommunityStructure\\communityStructure.jl:615\n",
      "  [8] loadToPlatform!\n",
      "    @ C:\\Users\\Marko\\.julia\\packages\\CellBasedModels\\xcw7h\\src\\CommunityStructure\\communityStructure.jl:573 [inlined]\n",
      "  [9] evolve!(community::Community; steps::Int64, saveEach::Int64, saveToFile::Bool, fileName::Nothing, overwrite::Bool, saveCurrentState::Bool, preallocateAgents::Int64, progressMessage::CellBasedModels.var\"#291#293\")\n",
      "    @ CellBasedModels C:\\Users\\Marko\\.julia\\packages\\CellBasedModels\\xcw7h\\src\\CommunityStructure\\step.jl:135\n",
      " [10] top-level scope\n",
      "    @ d:\\JuliaProjects\\CellBasedModelsF1\\code\\jl_notebook_cell_df34fa98e69747e1a8f8a730347b8e2f_X10sZmlsZQ==.jl:1"
     ]
    }
   ],
   "source": [
    "evolve!(com,steps=50,saveEach=1,preallocateAgents=0)"
   ]
  },
  {
   "cell_type": "code",
   "execution_count": 10,
   "metadata": {},
   "outputs": [],
   "source": [
    "function CBMPlots.plotRods2D!(ax, x, y, d, l, angle; kargs...)\n",
    "\n",
    "    Main.meshscatter!(ax,\n",
    "                x.+l./2 .*cos.(angle),\n",
    "                y.+l./2 .*sin.(angle),\n",
    "                marker=GeometryBasics.Sphere(Point3f0(0,0,0.),Float32(1)),\n",
    "                markersize=[\n",
    "                    Point3f0(i/2,i/2,0)\n",
    "                    for i in d\n",
    "                ];\n",
    "                kargs...\n",
    "            )\n",
    "\n",
    "    Main.meshscatter!(ax,\n",
    "                x.-l./2 .*cos.(angle),\n",
    "                y.-l./2 .*sin.(angle),\n",
    "                marker=GeometryBasics.Sphere(Point3f0(0,0,0),Float32(1)),\n",
    "                markersize=[\n",
    "                    Point3f0(i/2,i/2,0)\n",
    "                    for i in d\n",
    "                ];\n",
    "                kargs...\n",
    "            )\n",
    "            \n",
    "    Main.meshscatter!(ax,\n",
    "                x,\n",
    "                y,\n",
    "                marker=GeometryBasics.Cylinder(Point3f0(-.5,0,0),Point3f0(.5,0,0),Float32(1)),\n",
    "                markersize=[Point3f0(ll,dd/2,dd/2) for (ll,dd) in zip(l,d)],\n",
    "                rotations=angle;\n",
    "                kargs...\n",
    "            )\n",
    "\n",
    "    return\n",
    "\n",
    "end"
   ]
  },
  {
   "cell_type": "code",
   "execution_count": 11,
   "metadata": {},
   "outputs": [
    {
     "ename": "ArgumentError",
     "evalue": "ArgumentError: step cannot be zero",
     "output_type": "error",
     "traceback": [
      "ArgumentError: step cannot be zero\n",
      "\n",
      "Stacktrace:\n",
      " [1] steprange_last(start::Int64, step::Int64, stop::Int64)\n",
      "   @ Base .\\range.jl:333\n",
      " [2] StepRange\n",
      "   @ .\\range.jl:320 [inlined]\n",
      " [3] StepRange\n",
      "   @ .\\range.jl:373 [inlined]\n",
      " [4] _colon\n",
      "   @ .\\range.jl:24 [inlined]\n",
      " [5] (::Colon)(start::Int64, step::Int64, stop::Int64)\n",
      "   @ Base .\\range.jl:22\n",
      " [6] top-level scope\n",
      "   @ d:\\JuliaProjects\\CellBasedModelsF1\\code\\jl_notebook_cell_df34fa98e69747e1a8f8a730347b8e2f_X13sZmlsZQ==.jl:3"
     ]
    }
   ],
   "source": [
    "fig = Figure(resolution=(1500,300))\n",
    "\n",
    "for (i,j) in enumerate([1:round(Int,length(com)/4):length(com);length(com)])\n",
    "    ax = Axis3(fig[1,i],\n",
    "                azimuth=3*π/2,\n",
    "                elevation=π/2,\n",
    "                zlabelvisible=false,\n",
    "                zticklabelsvisible=false,\n",
    "                zgridvisible=false,\n",
    "                zspinesvisible=false\n",
    "            )\n",
    "\n",
    "    CBMPlots.plotRods2D!(ax,com[j][:x],com[j][:y],com[j][:d],com[j][:l],com[j][:theta],color=[:red,:blue])\n",
    "    xlims!(-5,5)\n",
    "    ylims!(-5,5)\n",
    "end\n",
    "\n",
    "display(fig)"
   ]
  },
  {
   "cell_type": "code",
   "execution_count": null,
   "metadata": {},
   "outputs": [],
   "source": []
  }
 ],
 "metadata": {
  "kernelspec": {
   "display_name": "Julia 1.9.4",
   "language": "julia",
   "name": "julia-1.9"
  },
  "language_info": {
   "file_extension": ".jl",
   "mimetype": "application/julia",
   "name": "julia",
   "version": "1.9.4"
  },
  "orig_nbformat": 4
 },
 "nbformat": 4,
 "nbformat_minor": 2
}
